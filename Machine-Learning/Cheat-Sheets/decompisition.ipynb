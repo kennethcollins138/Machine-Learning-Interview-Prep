{
 "cells": [
  {
   "cell_type": "markdown",
   "metadata": {},
   "source": [
    "## Decomposition/Compression Cheat Sheet\n",
    "\n",
    "### LU Decomposition\n",
    "- Use when: You need to solve a system of linear equations, calculate the determinant, or invert a matrix.\n",
    "- Pros: Efficient for large systems.\n",
    "- Cons: Cannot handle singular or near-singular matrices.\n",
    "\n",
    "### QR Decomposition\n",
    "- Use when: You need to solve the least squares problem, eigenvalues/eigenvectors, or stabilize a numerical solution.\n",
    "- Pros: Numerically stable, can handle singular or near-singular matrices.\n",
    "- Cons: More computationally expensive than LU Decomposition.\n",
    "\n",
    "### Cholesky Decomposition\n",
    "- Use when: You need to solve a system of linear equations where the matrix is symmetric and positive definite.\n",
    "- Pros: Twice as efficient as LU Decomposition for appropriate matrices.\n",
    "- Cons: Only applicable to a specific type of matrices (symmetric and positive definite).\n",
    "\n",
    "### Ridge Regression\n",
    "- Use when: You need to prevent overfitting in a linear regression model or handle multicollinearity.\n",
    "- Pros: Can prevent overfitting, handle multicollinearity, and improve model simplicity.\n",
    "- Cons: Introduces bias, and the optimal value of the regularization parameter is not known a priori and must be cross-validated.\n",
    "\n",
    "### Principal Component Analysis (PCA)\n",
    "- Use when: You need to reduce dimensionality, remove correlations between features, or visualize high-dimensional data.\n",
    "- Pros: Removes correlated features, reduces overfitting, reduces computational cost.\n",
    "- Cons: Can be hard to interpret, as original features are transformed.\n",
    "\n",
    "### Linear Discriminant Analysis (LDA)\n",
    "- Use when: You need to reduce dimensionality, classify data, or need a linear combination of features that separates two or more classes.\n",
    "- Pros: Maximizes class separability, can be used for classification.\n",
    "- Cons: Assumes that the data is normally distributed and the classes have identical covariance matrices.\n",
    "\n",
    "### Canonical Correlation Analysis (CCA)\n",
    "- Use when: You need to find correlations between two sets of multidimensional variables.\n",
    "- Pros: Can find complex relationships between two sets of variables.\n",
    "- Cons: Can be computationally expensive for large datasets."
   ]
  }
 ],
 "metadata": {
  "language_info": {
   "name": "python"
  }
 },
 "nbformat": 4,
 "nbformat_minor": 2
}
