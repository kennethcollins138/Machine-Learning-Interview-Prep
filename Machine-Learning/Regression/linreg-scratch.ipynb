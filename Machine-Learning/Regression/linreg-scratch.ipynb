{
 "cells": [
  {
   "cell_type": "markdown",
   "metadata": {},
   "source": [
    "# Coding Linear Regression from scratch"
   ]
  },
  {
   "cell_type": "code",
   "execution_count": 1,
   "metadata": {},
   "outputs": [],
   "source": [
    "import numpy as np  \n",
    "import pandas as pd  \n",
    "import matplotlib.pyplot as plt"
   ]
  },
  {
   "cell_type": "code",
   "execution_count": 3,
   "metadata": {},
   "outputs": [],
   "source": [
    "# Coefficient calculator\n",
    "def calculate_coefficients(X, y):\n",
    "    X = np.hstack((np.ones((X.shape[0], 1)), X)) # column of 1 for intercept\n",
    "    B = np.linalg.inv(X.T.dot(X)).dot(X.T).dot(y)\n",
    "    return B"
   ]
  },
  {
   "cell_type": "code",
   "execution_count": 4,
   "metadata": {},
   "outputs": [],
   "source": [
    "def predict(X,b):\n",
    "    X = np.hstack((np.ones((X.shape[0], 1)), X))  # Add a column of ones for the intercept\n",
    "    return X.dot(B)"
   ]
  },
  {
   "cell_type": "code",
   "execution_count": 5,
   "metadata": {},
   "outputs": [],
   "source": [
    "def mean_squared_error(y_true, y_pred):\n",
    "    return np.mean((y_true - y_pred) ** 2)"
   ]
  },
  {
   "cell_type": "code",
   "execution_count": 6,
   "metadata": {},
   "outputs": [],
   "source": [
    "# Test\n",
    "X = np.random.rand(100, 2)  # Two features\n",
    "y = 2.5 * X[:, 0] + 3.5 * X[:, 1] + np.random.randn(100)  # True coefficients are 2.5 and 3.5\n",
    "\n",
    "B = calculate_coefficients(X, y)\n",
    "y_pred = predict(X, B)\n",
    "mse = mean_squared_error(y, y_pred)"
   ]
  },
  {
   "cell_type": "code",
   "execution_count": 7,
   "metadata": {},
   "outputs": [
    {
     "name": "stdout",
     "output_type": "stream",
     "text": [
      "Coefficients: [-0.07172701  2.88649695  3.27193129]\n",
      "MSE: 0.9719955772742207\n"
     ]
    }
   ],
   "source": [
    "print(f'Coefficients: {B}')\n",
    "print(f'MSE: {mse}')"
   ]
  }
 ],
 "metadata": {
  "kernelspec": {
   "display_name": "base",
   "language": "python",
   "name": "python3"
  },
  "language_info": {
   "codemirror_mode": {
    "name": "ipython",
    "version": 3
   },
   "file_extension": ".py",
   "mimetype": "text/x-python",
   "name": "python",
   "nbconvert_exporter": "python",
   "pygments_lexer": "ipython3",
   "version": "3.10.13"
  }
 },
 "nbformat": 4,
 "nbformat_minor": 2
}
