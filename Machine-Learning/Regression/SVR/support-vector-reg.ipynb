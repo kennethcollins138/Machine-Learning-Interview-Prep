{
 "cells": [
  {
   "cell_type": "markdown",
   "metadata": {},
   "source": [
    "# Intuition"
   ]
  },
  {
   "cell_type": "markdown",
   "metadata": {},
   "source": [
    "The idea of SVR is the creation of a hyperplane which approximately captues as many instances as posssible while limiting the deviation for other instances of our data.\n",
    "Imagine we are trying to predict housing prices based off of different parameters, SVR will try t find at most ε away from the actual price for as many points as possible. This can be visualized as a tube fitting around the readius ε to our data. The instances that are within our ε tube are not errors, while ε outside of our tube are.  \n",
    "SVR wants to minimize the volume of this tube which is inherently minimizing error. The support vectors are the points that are on the boundary or edge of our tube. These are the values our model deemed to be most \"sensitive\" to as they define the position and width of the tube. SVR takes on kernels that map the relationship between features and target variables. \n",
    "The intuition is to find a function that fits as many instances as possible within a tolerance (ε) while minimizing the deviations or distance for the remaining data points. \n",
    "**SVR Advantages**\n",
    "- Effective in high dimensional spaces\n",
    "- Memory Efficient: Uses subset of datapoints(support vectors)\n",
    "- Versatile: can model linear and non-linear relationship depending on the kernel we use"
   ]
  },
  {
   "cell_type": "markdown",
   "metadata": {},
   "source": [
    "# Mathematics"
   ]
  },
  {
   "cell_type": "markdown",
   "metadata": {},
   "source": [
    "As stated previously, we are looking for a function f(x) that will limit our deviation and maximize the number of instances within our tube while trying to remain as flat as possible. We can think of this as trying to find a line or hyperplane which is at most an ε distance from the actual target value.  \n",
    "\n",
    "Essentially, we can write this as:  \n",
    "|y - f(x)| ≤ ε  \n",
    "\n",
    "This is emphasizing the point that our model is insenstive to the ε tube. This is a desirable property in terms of our margin(distance between closest data points and decision boundary). As stated the ε is the maximum deviation from the target variable, this means that we are accounting for error. With that being said, our model becomes more resistant to noise and outliers. It is important to note that ε does not change the orientation of our decision boundary only the width of the margin.\n",
    "\n",
    "While introducing error, it is important for errors larger than our margin we introduce slack variables. The slack variables measure the deviation outside of the tube.  "
   ]
  },
  {
   "cell_type": "markdown",
   "metadata": {},
   "source": [
    "## Linear Algebra and Analytical Geometry"
   ]
  },
  {
   "cell_type": "markdown",
   "metadata": {},
   "source": [
    "In reference to linear SVR, our hyperplane can be defined as `f(x) = w^T x + b` where `w` is the weight vector, `x` is the input vector, and `b` is the bias term. The objective function is : Minimize (1/2) * ||w||^2 + C * Σ(ξ + ξ*) as stated previously. \n",
    "\n",
    "The term ||w||^2 is the squared Euclidian norm (L2 Norm) of our weight vector which represents the flatness(angle) of our function. Since it is a euclidean norm of a vector V, it is defined as as `sqrt(v1^2 + v2^2 + ... + vn^2)`, so `||w||^2` is simply `w1^2 + w2^2 + ... + wn^2`.\n",
    "The terms `ξ` and `ξ*` are slack variables that measure the deviation outside the ε tube. The sum `Σ(ξ + ξ*)` is simply the sum of these slack variables over all training instances.\n",
    "\n",
    "The constraints of the problem can be written as:\n",
    "\n",
    "\n",
    "y - w^T x - b ≤ ε + ξ  \n",
    "w^T x + b - y ≤ ε + ξ*  \n",
    "ξ, ξ* ≥ 0  \n",
    "\n",
    "\n",
    "These are linear inequalities, and they ensure that the residuals (the differences between the predictions and the actual values) are at most ε, except for the slack variables `ξ` and `ξ*`.  \n",
    "\n",
    "The dual problem of SVR involves the Lagrange multipliers, which are used to incorporate the constraints into the objective function. The solution to the dual problem gives the optimal weight vector `w` and bias term `b`, as well as the support vectors. Will dive into duals in the Optimization section"
   ]
  },
  {
   "cell_type": "markdown",
   "metadata": {},
   "source": [
    "## Continuous Optimization and Vector Calculus"
   ]
  },
  {
   "cell_type": "markdown",
   "metadata": {},
   "source": [
    "Going back to the objective function and restraints of SVR from earlier. IT is a convex optimizatio problem as we are trying to find the unique global minimum which minimizes error. The solution to this problem gives the weight fector w and bias term b which help us define our hyper plane. To find these terms, we can use the method of Lagrange multipliers which incorparates the constraints into the objective function.  \n",
    "\n",
    "### The Dual Problem\n",
    "However, when dealing with Lagrange multipliers we run into the dual problem since we are minimizing the Lagrangian with respect to our parameters of the objective function while maximizing our Lagrangian multipliers like the inequality constraints and slack variables.\n",
    "\n",
    "(Looked this up but haven't researched it myself yet, this can be solved using techniques like Sequential Minimal Optimization or SMO)\n",
    "\n",
    "WHy is that a problem? We are trying to minimize our original equation by maximizing the Lagrangian multipliers which are based off of the original function.\n",
    "However, the solution to this problem returns the optimal values for our weight and bias.\n",
    "\n",
    "### Advantages of dual problem\n",
    "- it depends on the dot product of the input vectors which allows us to use the kernel trick to map our inputs to a higher dimensional space and solve non-linear problems"
   ]
  },
  {
   "cell_type": "markdown",
   "metadata": {},
   "source": [
    "# Support Vector Regression, sklearn"
   ]
  },
  {
   "cell_type": "markdown",
   "metadata": {},
   "source": [
    "[Dataset](https://www.kaggle.com/datasets/fedesoriano/the-boston-houseprice-data?resource=download)"
   ]
  },
  {
   "cell_type": "code",
   "execution_count": 1,
   "metadata": {},
   "outputs": [],
   "source": [
    "import numpy as np  \n",
    "import pandas as pd  \n",
    "import matplotlib.pyplot as plt\n",
    "import seaborn as sns\n",
    "from sklearn.model_selection import train_test_split as tts  \n",
    "from sklearn.svm import SVR\n",
    "from sklearn.metrics import mean_squared_error, r2_score\n",
    "from sklearn.preprocessing import StandardScaler\n",
    "from sklearn.model_selection import GridSearchCV\n",
    "from sklearn.compose import ColumnTransformer"
   ]
  },
  {
   "cell_type": "markdown",
   "metadata": {},
   "source": [
    "### Importing Dataset"
   ]
  },
  {
   "cell_type": "markdown",
   "metadata": {},
   "source": [
    "Input features in order:\n",
    "1) CRIM: per capita crime rate by town\n",
    "2) ZN: proportion of residential land zoned for lots over 25,000 sq.ft.\n",
    "3) INDUS: proportion of non-retail business acres per town\n",
    "4) CHAS: Charles River dummy variable (1 if tract bounds river; 0 otherwise)\n",
    "5) NOX: nitric oxides concentration (parts per 10 million) [parts/10M]\n",
    "6) RM: average number of rooms per dwelling\n",
    "7) AGE: proportion of owner-occupied units built prior to 1940\n",
    "8) DIS: weighted distances to five Boston employment centres\n",
    "9) RAD: index of accessibility to radial highways\n",
    "10) TAX: full-value property-tax rate per $10,000 [$/10k]\n",
    "11) PTRATIO: pupil-teacher ratio by town\n",
    "12) B: The result of the equation B=1000(Bk - 0.63)^2 where Bk is the proportion of blacks by town\n",
    "13) LSTAT: % lower status of the population\n",
    "\n",
    "Output variable:\n",
    "1) MEDV: Median value of owner-occupied homes in $1000's [k$]"
   ]
  },
  {
   "cell_type": "code",
   "execution_count": 2,
   "metadata": {},
   "outputs": [
    {
     "data": {
      "text/html": [
       "<div>\n",
       "<style scoped>\n",
       "    .dataframe tbody tr th:only-of-type {\n",
       "        vertical-align: middle;\n",
       "    }\n",
       "\n",
       "    .dataframe tbody tr th {\n",
       "        vertical-align: top;\n",
       "    }\n",
       "\n",
       "    .dataframe thead th {\n",
       "        text-align: right;\n",
       "    }\n",
       "</style>\n",
       "<table border=\"1\" class=\"dataframe\">\n",
       "  <thead>\n",
       "    <tr style=\"text-align: right;\">\n",
       "      <th></th>\n",
       "      <th>CRIM</th>\n",
       "      <th>ZN</th>\n",
       "      <th>INDUS</th>\n",
       "      <th>CHAS</th>\n",
       "      <th>NOX</th>\n",
       "      <th>RM</th>\n",
       "      <th>AGE</th>\n",
       "      <th>DIS</th>\n",
       "      <th>RAD</th>\n",
       "      <th>TAX</th>\n",
       "      <th>PTRATIO</th>\n",
       "      <th>B</th>\n",
       "      <th>LSTAT</th>\n",
       "      <th>MEDV</th>\n",
       "    </tr>\n",
       "  </thead>\n",
       "  <tbody>\n",
       "    <tr>\n",
       "      <th>0</th>\n",
       "      <td>0.00632</td>\n",
       "      <td>18.0</td>\n",
       "      <td>2.31</td>\n",
       "      <td>0</td>\n",
       "      <td>0.538</td>\n",
       "      <td>6.575</td>\n",
       "      <td>65.2</td>\n",
       "      <td>4.0900</td>\n",
       "      <td>1</td>\n",
       "      <td>296.0</td>\n",
       "      <td>15.3</td>\n",
       "      <td>396.90</td>\n",
       "      <td>4.98</td>\n",
       "      <td>24.0</td>\n",
       "    </tr>\n",
       "    <tr>\n",
       "      <th>1</th>\n",
       "      <td>0.02731</td>\n",
       "      <td>0.0</td>\n",
       "      <td>7.07</td>\n",
       "      <td>0</td>\n",
       "      <td>0.469</td>\n",
       "      <td>6.421</td>\n",
       "      <td>78.9</td>\n",
       "      <td>4.9671</td>\n",
       "      <td>2</td>\n",
       "      <td>242.0</td>\n",
       "      <td>17.8</td>\n",
       "      <td>396.90</td>\n",
       "      <td>9.14</td>\n",
       "      <td>21.6</td>\n",
       "    </tr>\n",
       "    <tr>\n",
       "      <th>2</th>\n",
       "      <td>0.02729</td>\n",
       "      <td>0.0</td>\n",
       "      <td>7.07</td>\n",
       "      <td>0</td>\n",
       "      <td>0.469</td>\n",
       "      <td>7.185</td>\n",
       "      <td>61.1</td>\n",
       "      <td>4.9671</td>\n",
       "      <td>2</td>\n",
       "      <td>242.0</td>\n",
       "      <td>17.8</td>\n",
       "      <td>392.83</td>\n",
       "      <td>4.03</td>\n",
       "      <td>34.7</td>\n",
       "    </tr>\n",
       "    <tr>\n",
       "      <th>3</th>\n",
       "      <td>0.03237</td>\n",
       "      <td>0.0</td>\n",
       "      <td>2.18</td>\n",
       "      <td>0</td>\n",
       "      <td>0.458</td>\n",
       "      <td>6.998</td>\n",
       "      <td>45.8</td>\n",
       "      <td>6.0622</td>\n",
       "      <td>3</td>\n",
       "      <td>222.0</td>\n",
       "      <td>18.7</td>\n",
       "      <td>394.63</td>\n",
       "      <td>2.94</td>\n",
       "      <td>33.4</td>\n",
       "    </tr>\n",
       "    <tr>\n",
       "      <th>4</th>\n",
       "      <td>0.06905</td>\n",
       "      <td>0.0</td>\n",
       "      <td>2.18</td>\n",
       "      <td>0</td>\n",
       "      <td>0.458</td>\n",
       "      <td>7.147</td>\n",
       "      <td>54.2</td>\n",
       "      <td>6.0622</td>\n",
       "      <td>3</td>\n",
       "      <td>222.0</td>\n",
       "      <td>18.7</td>\n",
       "      <td>396.90</td>\n",
       "      <td>5.33</td>\n",
       "      <td>36.2</td>\n",
       "    </tr>\n",
       "  </tbody>\n",
       "</table>\n",
       "</div>"
      ],
      "text/plain": [
       "      CRIM    ZN  INDUS  CHAS    NOX     RM   AGE     DIS  RAD    TAX  \\\n",
       "0  0.00632  18.0   2.31     0  0.538  6.575  65.2  4.0900    1  296.0   \n",
       "1  0.02731   0.0   7.07     0  0.469  6.421  78.9  4.9671    2  242.0   \n",
       "2  0.02729   0.0   7.07     0  0.469  7.185  61.1  4.9671    2  242.0   \n",
       "3  0.03237   0.0   2.18     0  0.458  6.998  45.8  6.0622    3  222.0   \n",
       "4  0.06905   0.0   2.18     0  0.458  7.147  54.2  6.0622    3  222.0   \n",
       "\n",
       "   PTRATIO       B  LSTAT  MEDV  \n",
       "0     15.3  396.90   4.98  24.0  \n",
       "1     17.8  396.90   9.14  21.6  \n",
       "2     17.8  392.83   4.03  34.7  \n",
       "3     18.7  394.63   2.94  33.4  \n",
       "4     18.7  396.90   5.33  36.2  "
      ]
     },
     "execution_count": 2,
     "metadata": {},
     "output_type": "execute_result"
    }
   ],
   "source": [
    "dataset = pd.read_csv('../Datasets/boston.csv')\n",
    "dataset.head()"
   ]
  }
 ],
 "metadata": {
  "kernelspec": {
   "display_name": "base",
   "language": "python",
   "name": "python3"
  },
  "language_info": {
   "codemirror_mode": {
    "name": "ipython",
    "version": 3
   },
   "file_extension": ".py",
   "mimetype": "text/x-python",
   "name": "python",
   "nbconvert_exporter": "python",
   "pygments_lexer": "ipython3",
   "version": "3.10.13"
  }
 },
 "nbformat": 4,
 "nbformat_minor": 2
}
