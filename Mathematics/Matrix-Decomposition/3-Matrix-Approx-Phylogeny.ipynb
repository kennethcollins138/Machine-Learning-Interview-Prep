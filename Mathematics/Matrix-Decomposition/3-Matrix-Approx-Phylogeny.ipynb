{
 "cells": [
  {
   "cell_type": "markdown",
   "metadata": {},
   "source": [
    "## Matrix Approximation\n",
    "\n",
    "Matrix approximation is a technique used in numerical analysis to approximate a given matrix with another matrix that is simpler or smaller. The goal is to find a matrix that is close to the original matrix, but is easier to work with in terms of computational efficiency or storage.\n",
    "\n",
    "There are several methods for matrix approximation, including:\n",
    "\n",
    "1. **Rank-k Approximation**: This is a common method of matrix approximation where we approximate a given matrix with another matrix of rank k. Singular Value Decomposition (SVD) is often used for this purpose. The top k singular values and corresponding singular vectors are used to form the approximate matrix.\n",
    "\n",
    "2. **Low-rank Approximation**: This is a special case of rank-k approximation where k is much smaller than the dimensions of the original matrix. This is useful in data compression and noise reduction.\n",
    "\n",
    "3. **Sparse Approximation**: This method approximates a given matrix with a sparse matrix (a matrix with many zeros). This is useful when storage is a concern.\n",
    "\n",
    "4. **Tensor Approximation**: This is a generalization of matrix approximation to higher-dimensional arrays.\n",
    "\n",
    "Matrix approximation has many applications in machine learning, data mining, image processing, and other fields where dealing with large and complex matrices is computationally expensive or impractical.\n",
    "\n",
    "\n",
    "### Resourcs/Review\n",
    "- Mathematics for machine learning textbook does a great job breaking down this topic visually using a picture. Page 130 for ref.\n",
    "- [Example](Photos/approx.jpeg)\n"
   ]
  },
  {
   "cell_type": "markdown",
   "metadata": {},
   "source": [
    "[Matrix Phylogeny](Photos/phylogeny.PNG)"
   ]
  }
 ],
 "metadata": {
  "language_info": {
   "name": "python"
  }
 },
 "nbformat": 4,
 "nbformat_minor": 2
}
