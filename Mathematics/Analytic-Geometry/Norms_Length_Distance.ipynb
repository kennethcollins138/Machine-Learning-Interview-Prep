{
 "cells": [
  {
   "cell_type": "markdown",
   "metadata": {},
   "source": [
    "## Norms\n",
    "\n",
    "### Definition\n",
    "A norm is a function that assigns a strictly positive length or size to each vector in a vector space, with the exception of the zero vector which is assigned a length of zero. In essence, it gives a measure of the magnitude of the vectors. In machine learning, we use norms to understand and measure the complexity of models.\n",
    "\n",
    "### Intuition\n",
    "The intuition behind norms is that they measure the length of a vector. For example, in a 2D space, the length of a vector from the origin to a point (x, y) can be calculated using the Euclidean norm (also known as the L2 norm), which is the square root of (x^2 + y^2).\n",
    "\n",
    "### Example\n",
    "For a vector v = [3, 4] in a 2D space, the L2 norm (Euclidean distance) would be sqrt(3^2 + 4^2) = 5.\n",
    "\n",
    "### Properties\n",
    "1. **Non-negativity:** The norm of a vector is always non-negative.\n",
    "2. **Definiteness:** The norm of a vector is zero if and only if the vector is a zero vector.\n",
    "3. **Scalability:** The norm of a scalar multiple of a vector is equal to the absolute value of this scalar times the norm of the vector.\n",
    "4. **Triangle Inequality:** The norm of the sum of two vectors is less than or equal to the sum of their norms."
   ]
  },
  {
   "cell_type": "markdown",
   "metadata": {},
   "source": [
    "## Inner Products, General Inner Products, and Dot Product\n",
    "\n",
    "### Definition\n",
    "An inner product is a generalization of the dot product. In a vector space, it is a way to multiply vectors together, with the result of this multiplication being a scalar. More specifically, in a real space, an inner product is a positive definite, symmetric bilinear form.\n",
    "\n",
    "The dot product is a specific type of inner product where the multiplication is carried out as element-wise multiplication and summing the result.\n",
    "\n",
    "### Intuition\n",
    "The intuition behind the inner product is that it provides a measure of how much of one vector goes in the direction of another. It is a fundamental operation in the geometry of high-dimensional spaces.\n",
    "\n",
    "### Example\n",
    "For two vectors a = [a1, a2] and b = [b1, b2], the dot product would be calculated as (a1 * b1 + a2 * b2).\n",
    "\n",
    "### Properties\n",
    "1. **Commutativity:** The dot product is commutative: a · b = b · a.\n",
    "2. **Distributivity:** The dot product is distributive over vector addition: a · (b + c) = a · b + a · c.\n",
    "3. **Associativity with scalar multiplication:** (λa) · b = λ(a · b).\n",
    "4. **Positive-definiteness:** For any non-zero vector a, the dot product a · a is positive.\n"
   ]
  },
  {
   "cell_type": "markdown",
   "metadata": {},
   "source": [
    "## Euclidean Vector Spaces\n",
    "\n",
    "### Definition\n",
    "A Euclidean vector space is a vector space equipped with a notion of distance and angle, defined by an inner product (usually the dot product). The most familiar Euclidean vector space is the 2D or 3D space we live in, but in mathematics and computer science, we often work with higher-dimensional Euclidean spaces.\n",
    "\n",
    "### Intuition\n",
    "The intuition behind Euclidean vector spaces is that they are spaces where the usual rules of geometry apply. You can add vectors together, scale vectors by scalars, measure the length of vectors (using the Euclidean norm), and measure the angle between vectors.\n",
    "\n",
    "### Example\n",
    "A simple example of a Euclidean vector space is the 2D plane. The vectors in this space can be represented as pairs of real numbers, like (2, 3) or (-1, 5). You can add these vectors together, scale them, measure their length, and measure the angle between them.\n",
    "\n",
    "### Properties\n",
    "1. **Addition:** Vector addition is commutative and associative in Euclidean spaces.\n",
    "2. **Scalar Multiplication:** Scalar multiplication is associative and distributive over vector addition in Euclidean spaces.\n",
    "3. **Zero Vector:** There exists a zero vector in Euclidean spaces, such that adding it to any vector doesn't change the vector.\n",
    "4. **Negative Vector:** For every vector in Euclidean spaces, there exists a negative vector, such that adding the vector and its negative yields the zero vector.\n",
    "5. **Inner Product:** Euclidean spaces have an inner product, which allows us to measure angles and compute the Euclidean norm.\n"
   ]
  },
  {
   "cell_type": "markdown",
   "metadata": {},
   "source": [
    "## Symmetric, Positive Definite Matrices\n",
    "\n",
    "### Definition\n",
    "A symmetric matrix is a type of square matrix where corresponding elements about the main diagonal are equal. That is, the element in the i-th row and j-th column is equal to the element in the j-th row and i-th column.\n",
    "\n",
    "A positive definite matrix is a type of symmetric matrix where all its eigenvalues are positive. More formally, a matrix A is positive definite if for all non-zero vectors x, the dot product of x and Ax is positive, i.e., x'Ax > 0.\n",
    "\n",
    "### Intuition\n",
    "The intuition behind symmetric, positive definite matrices is that they represent a multivariate generalization of squares. Just as the square of a real number is always non-negative, the dot product x'Ax is always non-negative when A is a positive definite matrix.\n",
    "\n",
    "### Example\n",
    "A simple example of a 2x2 symmetric, positive definite matrix is:\n"
   ]
  },
  {
   "cell_type": "markdown",
   "metadata": {},
   "source": [
    "A = [2 1]\n",
    "    [1 2]\n"
   ]
  },
  {
   "cell_type": "markdown",
   "metadata": {},
   "source": [
    "\n",
    "### Properties\n",
    "1. **Symmetric:** A symmetric matrix is equal to its transpose.\n",
    "2. **Positive Definite:** A positive definite matrix has all positive eigenvalues, and all its principal minors are positive.\n",
    "3. **Cholesky Decomposition:** Every symmetric, positive definite matrix has a unique Cholesky decomposition.\n",
    "4. **Inverse:** The inverse of a symmetric, positive definite matrix is also symmetric and positive definite.\n"
   ]
  },
  {
   "cell_type": "markdown",
   "metadata": {},
   "source": [
    "# Lengths and Distances"
   ]
  },
  {
   "cell_type": "markdown",
   "metadata": {},
   "source": [
    "## Lengths of Vectors Using Inner Products\n",
    "\n",
    "### Definition\n",
    "The length (or norm) of a vector can be calculated using the inner product. For a vector `v`, the length is defined as the square root of the inner product of the vector with itself. In the case of real-valued vectors, this is equivalent to the Euclidean norm.\n",
    "\n",
    "### Intuition\n",
    "The intuition behind calculating the length of a vector using the inner product is that it provides a measure of the \"size\" or \"magnitude\" of the vector. The inner product of a vector with itself essentially sums up the squares of its components, and taking the square root of this sum gives the length of the vector.\n",
    "\n",
    "### Example\n",
    "For a vector v = [3, 4], the length would be calculated as sqrt(v · v) = sqrt(3^2 + 4^2) = 5.\n",
    "\n",
    "### Properties\n",
    "1. **Non-negativity:** The length of a vector is always non-negative.\n",
    "2. **Definiteness:** The length of a vector is zero if and only if the vector is a zero vector.\n",
    "3. **Homogeneity:** The length of a scalar multiple of a vector is equal to the absolute value of this scalar times the length of the vector.\n",
    "4. **Triangle Inequality:** The length of the sum of two vectors is less than or equal to the sum of their lengths."
   ]
  },
  {
   "cell_type": "markdown",
   "metadata": {},
   "source": [
    "## Distance and Metric\n",
    "\n",
    "### Definition\n",
    "In mathematics, a metric or distance function is a function that defines a distance between each pair of elements of a set. A set with a metric is called a metric space. A metric induces a topology on a set, but not all topologies can be generated by a metric.\n",
    "\n",
    "### Intuition\n",
    "The intuition behind a metric is that it quantifies how \"far apart\" two points are in a space. The distance between two points is a non-negative value, where 0 indicates that the points are identical and larger values indicate greater distance.\n",
    "\n",
    "### Example\n",
    "In a 2D space with points A(1, 2) and B(4, 6), the Euclidean distance (a common metric) would be calculated as sqrt((4-1)² + (6-2)²) = 5.\n",
    "\n",
    "### Properties\n",
    "A metric satisfies the following properties:\n",
    "1. **Non-negativity:** The distance between any two points is non-negative.\n",
    "2. **Identity of indiscernibles:** The distance between a point and itself is zero.\n",
    "3. **Symmetry:** The distance from A to B is the same as the distance from B to A.\n",
    "4. **Triangle Inequality:** The distance from A to B via C is at least the direct distance from A to B.\n"
   ]
  },
  {
   "cell_type": "markdown",
   "metadata": {},
   "source": []
  }
 ],
 "metadata": {
  "language_info": {
   "name": "python"
  }
 },
 "nbformat": 4,
 "nbformat_minor": 2
}
