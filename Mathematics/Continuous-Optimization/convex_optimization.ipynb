{
 "cells": [
  {
   "cell_type": "markdown",
   "metadata": {},
   "source": [
    "# Convex Optimization\n",
    "\n",
    "- Convex optimization is a subfield of optimization that studies the problem of minimizing convex functions over convex sets.\n",
    "\n",
    "-  When f(x) is a convex function and the feasible set is convex, the problem is called a convex optimization problem.\n",
    "\n",
    "- **Convex Set**: A set C is convex if for any two points x1 and x2 in C, the line segment between x1 and x2 is also in C.\n",
    "\n",
    "- **Convex Function**: A function f(x) is convex if for any two points x1 and x2 in the domain of f, the line segment between (x1, f(x1)) and (x2, f(x2)) lies above the graph of f.\n",
    "\n",
    "- **Convex Optimization Problem**: Minimize f(x) subject to Ax = b and x in C, where f(x) is a convex function, A is a matrix, b is a vector, and C is a convex set.\n",
    "\n",
    "- **Intuition**: Convex optimization problems are nice because they have a unique global minimum, and any local minimum is also a global minimum.\n",
    "\n",
    "- **Note**: A negative convex function is a concave function.\n",
    "\n",
    "# I personally need to study this topic more, will come back and complete this notebook later."
   ]
  }
 ],
 "metadata": {
  "language_info": {
   "name": "python"
  }
 },
 "nbformat": 4,
 "nbformat_minor": 2
}
