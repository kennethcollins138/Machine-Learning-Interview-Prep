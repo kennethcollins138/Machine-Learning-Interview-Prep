{
 "cells": [
  {
   "cell_type": "markdown",
   "metadata": {},
   "source": [
    "# Probability\n",
    "\n",
    "- **probability distributions:** associated with a random variable is a function that measures the probability of that particular outcome"
   ]
  },
  {
   "cell_type": "markdown",
   "metadata": {},
   "source": [
    "## Probability Space\n",
    "\n",
    "- goal is to define the a mathematical structure to describe random outcomes"
   ]
  }
 ],
 "metadata": {
  "language_info": {
   "name": "python"
  }
 },
 "nbformat": 4,
 "nbformat_minor": 2
}
