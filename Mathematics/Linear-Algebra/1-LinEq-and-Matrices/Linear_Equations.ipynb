{
 "cells": [
  {
   "cell_type": "markdown",
   "metadata": {},
   "source": [
    "# Linear Equations"
   ]
  },
  {
   "cell_type": "markdown",
   "metadata": {},
   "source": [
    "## What are Linear Equations and Vectors"
   ]
  },
  {
   "cell_type": "markdown",
   "metadata": {},
   "source": [
    "- Vectors: A way of portraying a list of data which can be used to conclude a relationship between points. Think of a list in python.\n",
    "\n",
    "### Types of Vectors:\n",
    "- Geometric Vectors: Think about the vectors from physics, they are directed segments which can be drawn. You can add these together to create another vector.\n",
    "- Polynomials: Think about polynomial vectors as vectors where each degree of an equation represents another value in your vector. EX: y(1) = 1 + x/2 + 3x^2 => [1,1/2,3]\n",
    "    Polynomials can also be combined to result in other polynomials.\n",
    "- Audio Signals: Think about the construction of wave signals and how similar they are to cosine sin functions. These can be represented as vectors as well.\n",
    "    - Think of Fourier Transforms! (will link to this later)\n",
    "- Elements of R^n: More abstract, but components of a dimension are a vector as well!"
   ]
  },
  {
   "cell_type": "markdown",
   "metadata": {},
   "source": [
    "### Scalars:\n",
    "Going back to the equation for a line. Notice in the format y = mx + b. You have your variable x, and your value m. Your scalar is your multiple which can be any real number! What this number does, it 'scales' the values within a matrix. Imagine in something like a vector like 3[1,2,3], we'd simply multiply each value by 3 to get [3,6,9]!"
   ]
  },
  {
   "cell_type": "markdown",
   "metadata": {},
   "source": [
    "## System of Linear Equations \n",
    "### What are they?  \n",
    "Imagine a list of equations such as ai1(x1) + ... + ain(xn). Now imagine a list of multiple equations such as:  \n",
    "x1 + 2x2 + x3 = 8  \n",
    "x1 + x2 = 2  \n",
    "x2 = 2  \n",
    "We can take these values and solve for them by doing simple algebra or we can take the coefficents  and vectors to form a matrix such as  \n",
    "[1 2 1] [x1]   [8]  \n",
    "[1 1 0] [x2] = [2]  \n",
    "[0 1 0] [x3]   [2]  \n",
    "\n",
    "Your equation is simply Ax = b where Matrix A:  \n",
    "1 2 1  \n",
    "1 1 0  \n",
    "0 1 0  \n",
    "\n",
    "Vector x:  \n",
    "x1  \n",
    "x2  \n",
    "x3  \n",
    "\n",
    "Vector b:  \n",
    "8  \n",
    "2  \n",
    "2  "
   ]
  },
  {
   "cell_type": "markdown",
   "metadata": {},
   "source": [
    "### Important Note\n",
    "Im going to jump right here for my own personal reasons, I'm going to leave resources that help break this down, but I personally dont need to stay on this."
   ]
  },
  {
   "cell_type": "markdown",
   "metadata": {},
   "source": [
    "## Matrices"
   ]
  },
  {
   "cell_type": "markdown",
   "metadata": {},
   "source": [
    "### Matrix Addition and Multiplication  \n",
    "\n",
    "Remember: Matrices can only be added if they are the same dimensions. For example, a matrix A(2x3) can only be added with a matrix B(2x3) as they are the same shape."
   ]
  }
 ],
 "metadata": {
  "kernelspec": {
   "display_name": "base",
   "language": "python",
   "name": "python3"
  },
  "language_info": {
   "name": "python",
   "version": "3.10.13"
  }
 },
 "nbformat": 4,
 "nbformat_minor": 2
}
